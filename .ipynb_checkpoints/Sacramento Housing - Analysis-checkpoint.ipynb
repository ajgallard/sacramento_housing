{
 "cells": [
  {
   "cell_type": "markdown",
   "metadata": {},
   "source": [
    "# Sacramento Housing - Analysis"
   ]
  },
  {
   "cell_type": "code",
   "execution_count": 1,
   "metadata": {},
   "outputs": [],
   "source": [
    "import pandas as pd\n",
    "import matplotlib.pyplot as plt\n",
    "import seaborn as sns\n",
    "import numpy as np\n",
    "%matplotlib inline"
   ]
  },
  {
   "cell_type": "code",
   "execution_count": 2,
   "metadata": {},
   "outputs": [],
   "source": [
    "df = pd.read_csv('redfin_prep.csv')"
   ]
  },
  {
   "cell_type": "code",
   "execution_count": 3,
   "metadata": {},
   "outputs": [
    {
     "data": {
      "text/plain": [
       "<AxesSubplot:xlabel='price', ylabel='Count'>"
      ]
     },
     "execution_count": 3,
     "metadata": {},
     "output_type": "execute_result"
    },
    {
     "data": {
      "image/png": "[encoded data removed]",
      "text/plain": [
       "<Figure size 432x288 with 1 Axes>"
      ]
     },
     "metadata": {
      "needs_background": "light"
     },
     "output_type": "display_data"
    }
   ],
   "source": [
    "sns.histplot(data=df['price'])"
   ]
  },
  {
   "cell_type": "code",
   "execution_count": 4,
   "metadata": {},
   "outputs": [
    {
     "data": {
      "text/plain": [
       "508904.0775444265"
      ]
     },
     "execution_count": 4,
     "metadata": {},
     "output_type": "execute_result"
    }
   ],
   "source": [
    "# average home price\n",
    "df['price'].mean()"
   ]
  },
  {
   "cell_type": "code",
   "execution_count": 5,
   "metadata": {},
   "outputs": [
    {
     "data": {
      "text/plain": [
       "3.27140549273021"
      ]
     },
     "execution_count": 5,
     "metadata": {},
     "output_type": "execute_result"
    }
   ],
   "source": [
    "# average number of beds\n",
    "df['beds'].mean()"
   ]
  },
  {
   "cell_type": "code",
   "execution_count": 6,
   "metadata": {},
   "outputs": [
    {
     "data": {
      "text/plain": [
       "2.27140549273021"
      ]
     },
     "execution_count": 6,
     "metadata": {},
     "output_type": "execute_result"
    }
   ],
   "source": [
    "# average number of baths\n",
    "df['baths'].mean()"
   ]
  },
  {
   "cell_type": "code",
   "execution_count": 7,
   "metadata": {},
   "outputs": [
    {
     "data": {
      "text/plain": [
       "1820.6995153473345"
      ]
     },
     "execution_count": 7,
     "metadata": {},
     "output_type": "execute_result"
    }
   ],
   "source": [
    "#average square footage\n",
    "df['sq_ft'].mean()"
   ]
  },
  {
   "cell_type": "code",
   "execution_count": 8,
   "metadata": {},
   "outputs": [
    {
     "name": "stdout",
     "output_type": "stream",
     "text": [
      "<class 'pandas.core.frame.DataFrame'>\n",
      "RangeIndex: 619 entries, 0 to 618\n",
      "Data columns (total 9 columns):\n",
      " #   Column     Non-Null Count  Dtype  \n",
      "---  ------     --------------  -----  \n",
      " 0   address    619 non-null    object \n",
      " 1   baths      619 non-null    float64\n",
      " 2   beds       619 non-null    float64\n",
      " 3   brokerage  619 non-null    object \n",
      " 4   price      619 non-null    int64  \n",
      " 5   sq_ft      619 non-null    int64  \n",
      " 6   zip_code   619 non-null    int64  \n",
      " 7   city       619 non-null    object \n",
      " 8   street     619 non-null    object \n",
      "dtypes: float64(2), int64(3), object(4)\n",
      "memory usage: 43.6+ KB\n"
     ]
    }
   ],
   "source": [
    "df.info()"
   ]
  },
  {
   "cell_type": "code",
   "execution_count": 9,
   "metadata": {},
   "outputs": [
    {
     "name": "stdout",
     "output_type": "stream",
     "text": [
      "<class 'pandas.core.frame.DataFrame'>\n",
      "RangeIndex: 619 entries, 0 to 618\n",
      "Data columns (total 9 columns):\n",
      " #   Column     Non-Null Count  Dtype  \n",
      "---  ------     --------------  -----  \n",
      " 0   address    619 non-null    object \n",
      " 1   baths      619 non-null    float64\n",
      " 2   beds       619 non-null    float64\n",
      " 3   brokerage  619 non-null    object \n",
      " 4   price      619 non-null    int64  \n",
      " 5   sq_ft      619 non-null    int64  \n",
      " 6   zip_code   619 non-null    int64  \n",
      " 7   city       619 non-null    object \n",
      " 8   street     619 non-null    object \n",
      "dtypes: float64(2), int64(3), object(4)\n",
      "memory usage: 43.6+ KB\n"
     ]
    }
   ],
   "source": [
    "df.info()"
   ]
  },
  {
   "cell_type": "code",
   "execution_count": 10,
   "metadata": {},
   "outputs": [
    {
     "data": {
      "text/html": [
       "<div>\n",
       "<style scoped>\n",
       "    .dataframe tbody tr th:only-of-type {\n",
       "        vertical-align: middle;\n",
       "    }\n",
       "\n",
       "    .dataframe tbody tr th {\n",
       "        vertical-align: top;\n",
       "    }\n",
       "\n",
       "    .dataframe thead th {\n",
       "        text-align: right;\n",
       "    }\n",
       "</style>\n",
       "<table border=\"1\" class=\"dataframe\">\n",
       "  <thead>\n",
       "    <tr style=\"text-align: right;\">\n",
       "      <th></th>\n",
       "      <th>address</th>\n",
       "      <th>baths</th>\n",
       "      <th>beds</th>\n",
       "      <th>brokerage</th>\n",
       "      <th>price</th>\n",
       "      <th>sq_ft</th>\n",
       "      <th>zip_code</th>\n",
       "      <th>city</th>\n",
       "      <th>street</th>\n",
       "    </tr>\n",
       "  </thead>\n",
       "  <tbody>\n",
       "    <tr>\n",
       "      <th>0</th>\n",
       "      <td>2025 Rockbridge Rd, Sacramento, CA 95815</td>\n",
       "      <td>2.0</td>\n",
       "      <td>4.0</td>\n",
       "      <td>Redfin Corporation</td>\n",
       "      <td>369900</td>\n",
       "      <td>1121</td>\n",
       "      <td>95815</td>\n",
       "      <td>Sacramento</td>\n",
       "      <td>2025 Rockbridge Rd</td>\n",
       "    </tr>\n",
       "    <tr>\n",
       "      <th>1</th>\n",
       "      <td>8377 Almadine Dr, Sacramento, CA 95829</td>\n",
       "      <td>2.0</td>\n",
       "      <td>3.0</td>\n",
       "      <td>Redfin Corporation</td>\n",
       "      <td>569900</td>\n",
       "      <td>1843</td>\n",
       "      <td>95829</td>\n",
       "      <td>Sacramento</td>\n",
       "      <td>8377 Almadine Dr</td>\n",
       "    </tr>\n",
       "    <tr>\n",
       "      <th>2</th>\n",
       "      <td>10216 Rockingham Dr, Sacramento, CA 95827</td>\n",
       "      <td>2.0</td>\n",
       "      <td>4.0</td>\n",
       "      <td>Redfin Corporation</td>\n",
       "      <td>319900</td>\n",
       "      <td>1587</td>\n",
       "      <td>95827</td>\n",
       "      <td>Sacramento</td>\n",
       "      <td>10216 Rockingham Dr</td>\n",
       "    </tr>\n",
       "    <tr>\n",
       "      <th>3</th>\n",
       "      <td>3158 Callecita St, Sacramento, CA 95815</td>\n",
       "      <td>2.0</td>\n",
       "      <td>3.0</td>\n",
       "      <td>Redfin Corporation</td>\n",
       "      <td>349000</td>\n",
       "      <td>1318</td>\n",
       "      <td>95815</td>\n",
       "      <td>Sacramento</td>\n",
       "      <td>3158 Callecita St</td>\n",
       "    </tr>\n",
       "    <tr>\n",
       "      <th>4</th>\n",
       "      <td>2280 Hurley Way #66, Sacramento, CA 95825</td>\n",
       "      <td>2.0</td>\n",
       "      <td>2.0</td>\n",
       "      <td>Redfin Corporation</td>\n",
       "      <td>229900</td>\n",
       "      <td>1105</td>\n",
       "      <td>95825</td>\n",
       "      <td>Sacramento</td>\n",
       "      <td>2280 Hurley Way #66</td>\n",
       "    </tr>\n",
       "  </tbody>\n",
       "</table>\n",
       "</div>"
      ],
      "text/plain": [
       "                                     address  baths  beds           brokerage  \\\n",
       "0   2025 Rockbridge Rd, Sacramento, CA 95815    2.0   4.0  Redfin Corporation   \n",
       "1     8377 Almadine Dr, Sacramento, CA 95829    2.0   3.0  Redfin Corporation   \n",
       "2  10216 Rockingham Dr, Sacramento, CA 95827    2.0   4.0  Redfin Corporation   \n",
       "3    3158 Callecita St, Sacramento, CA 95815    2.0   3.0  Redfin Corporation   \n",
       "4  2280 Hurley Way #66, Sacramento, CA 95825    2.0   2.0  Redfin Corporation   \n",
       "\n",
       "    price  sq_ft  zip_code        city               street  \n",
       "0  369900   1121     95815  Sacramento   2025 Rockbridge Rd  \n",
       "1  569900   1843     95829  Sacramento     8377 Almadine Dr  \n",
       "2  319900   1587     95827  Sacramento  10216 Rockingham Dr  \n",
       "3  349000   1318     95815  Sacramento    3158 Callecita St  \n",
       "4  229900   1105     95825  Sacramento  2280 Hurley Way #66  "
      ]
     },
     "execution_count": 10,
     "metadata": {},
     "output_type": "execute_result"
    }
   ],
   "source": [
    "df.head()"
   ]
  },
  {
   "cell_type": "markdown",
   "metadata": {},
   "source": [
    " ## Assumptions\n",
    " > * address, city, street, & zip_code have some colinearity\n",
    " > * there is some underlying linear relationship between location, number of baths, number of beds, and square footage relative to price\n",
    " > * there is no discernably inherent ranking system within categorical variables (e.g. not ordinal)"
   ]
  },
  {
   "cell_type": "code",
   "execution_count": 11,
   "metadata": {},
   "outputs": [],
   "source": [
    "# drop address and street\n",
    "df.drop(['address','street'],axis=1,inplace=True)"
   ]
  },
  {
   "cell_type": "code",
   "execution_count": 12,
   "metadata": {},
   "outputs": [
    {
     "data": {
      "text/plain": [
       "192"
      ]
     },
     "execution_count": 12,
     "metadata": {},
     "output_type": "execute_result"
    }
   ],
   "source": [
    "df['brokerage'].nunique()"
   ]
  },
  {
   "cell_type": "code",
   "execution_count": 13,
   "metadata": {},
   "outputs": [],
   "source": [
    "#dropping brokerage as the broker category does not make for good inference\n",
    "df.drop('brokerage',axis=1,inplace=True)"
   ]
  },
  {
   "cell_type": "code",
   "execution_count": 14,
   "metadata": {},
   "outputs": [
    {
     "data": {
      "text/html": [
       "<div>\n",
       "<style scoped>\n",
       "    .dataframe tbody tr th:only-of-type {\n",
       "        vertical-align: middle;\n",
       "    }\n",
       "\n",
       "    .dataframe tbody tr th {\n",
       "        vertical-align: top;\n",
       "    }\n",
       "\n",
       "    .dataframe thead th {\n",
       "        text-align: right;\n",
       "    }\n",
       "</style>\n",
       "<table border=\"1\" class=\"dataframe\">\n",
       "  <thead>\n",
       "    <tr style=\"text-align: right;\">\n",
       "      <th></th>\n",
       "      <th>baths</th>\n",
       "      <th>beds</th>\n",
       "      <th>price</th>\n",
       "      <th>sq_ft</th>\n",
       "      <th>zip_code</th>\n",
       "      <th>city</th>\n",
       "    </tr>\n",
       "  </thead>\n",
       "  <tbody>\n",
       "    <tr>\n",
       "      <th>0</th>\n",
       "      <td>2.0</td>\n",
       "      <td>4.0</td>\n",
       "      <td>369900</td>\n",
       "      <td>1121</td>\n",
       "      <td>95815</td>\n",
       "      <td>Sacramento</td>\n",
       "    </tr>\n",
       "    <tr>\n",
       "      <th>1</th>\n",
       "      <td>2.0</td>\n",
       "      <td>3.0</td>\n",
       "      <td>569900</td>\n",
       "      <td>1843</td>\n",
       "      <td>95829</td>\n",
       "      <td>Sacramento</td>\n",
       "    </tr>\n",
       "    <tr>\n",
       "      <th>2</th>\n",
       "      <td>2.0</td>\n",
       "      <td>4.0</td>\n",
       "      <td>319900</td>\n",
       "      <td>1587</td>\n",
       "      <td>95827</td>\n",
       "      <td>Sacramento</td>\n",
       "    </tr>\n",
       "    <tr>\n",
       "      <th>3</th>\n",
       "      <td>2.0</td>\n",
       "      <td>3.0</td>\n",
       "      <td>349000</td>\n",
       "      <td>1318</td>\n",
       "      <td>95815</td>\n",
       "      <td>Sacramento</td>\n",
       "    </tr>\n",
       "    <tr>\n",
       "      <th>4</th>\n",
       "      <td>2.0</td>\n",
       "      <td>2.0</td>\n",
       "      <td>229900</td>\n",
       "      <td>1105</td>\n",
       "      <td>95825</td>\n",
       "      <td>Sacramento</td>\n",
       "    </tr>\n",
       "  </tbody>\n",
       "</table>\n",
       "</div>"
      ],
      "text/plain": [
       "   baths  beds   price  sq_ft  zip_code        city\n",
       "0    2.0   4.0  369900   1121     95815  Sacramento\n",
       "1    2.0   3.0  569900   1843     95829  Sacramento\n",
       "2    2.0   4.0  319900   1587     95827  Sacramento\n",
       "3    2.0   3.0  349000   1318     95815  Sacramento\n",
       "4    2.0   2.0  229900   1105     95825  Sacramento"
      ]
     },
     "execution_count": 14,
     "metadata": {},
     "output_type": "execute_result"
    }
   ],
   "source": [
    "df.head()"
   ]
  },
  {
   "cell_type": "markdown",
   "metadata": {},
   "source": [
    "## Statsmodel - OLS"
   ]
  },
  {
   "cell_type": "code",
   "execution_count": 15,
   "metadata": {},
   "outputs": [],
   "source": [
    "import statsmodels.formula.api as sm"
   ]
  },
  {
   "cell_type": "code",
   "execution_count": 16,
   "metadata": {},
   "outputs": [],
   "source": [
    "f_rev = 'price~C(zip_code)+C(city)+baths+beds+sq_ft'\n",
    "model_rev = sm.ols(formula=f_rev,data=df).fit()"
   ]
  },
  {
   "cell_type": "code",
   "execution_count": 17,
   "metadata": {},
   "outputs": [
    {
     "data": {
      "text/html": [
       "<table class=\"simpletable\">\n",
       "<caption>OLS Regression Results</caption>\n",
       "<tr>\n",
       "  <th>Dep. Variable:</th>          <td>price</td>      <th>  R-squared:         </th> <td>   0.700</td> \n",
       "</tr>\n",
       "<tr>\n",
       "  <th>Model:</th>                   <td>OLS</td>       <th>  Adj. R-squared:    </th> <td>   0.679</td> \n",
       "</tr>\n",
       "<tr>\n",
       "  <th>Method:</th>             <td>Least Squares</td>  <th>  F-statistic:       </th> <td>   33.74</td> \n",
       "</tr>\n",
       "<tr>\n",
       "  <th>Date:</th>             <td>Wed, 24 Feb 2021</td> <th>  Prob (F-statistic):</th> <td>7.27e-125</td>\n",
       "</tr>\n",
       "<tr>\n",
       "  <th>Time:</th>                 <td>11:55:31</td>     <th>  Log-Likelihood:    </th> <td> -8082.4</td> \n",
       "</tr>\n",
       "<tr>\n",
       "  <th>No. Observations:</th>      <td>   619</td>      <th>  AIC:               </th> <td>1.625e+04</td>\n",
       "</tr>\n",
       "<tr>\n",
       "  <th>Df Residuals:</th>          <td>   578</td>      <th>  BIC:               </th> <td>1.643e+04</td>\n",
       "</tr>\n",
       "<tr>\n",
       "  <th>Df Model:</th>              <td>    40</td>      <th>                     </th>     <td> </td>    \n",
       "</tr>\n",
       "<tr>\n",
       "  <th>Covariance Type:</th>      <td>nonrobust</td>    <th>                     </th>     <td> </td>    \n",
       "</tr>\n",
       "</table>\n",
       "<table class=\"simpletable\">\n",
       "<tr>\n",
       "              <td></td>                 <th>coef</th>     <th>std err</th>      <th>t</th>      <th>P>|t|</th>  <th>[0.025</th>    <th>0.975]</th>  \n",
       "</tr>\n",
       "<tr>\n",
       "  <th>Intercept</th>                 <td> 2.363e+05</td> <td> 6.14e+04</td> <td>    3.852</td> <td> 0.000</td> <td> 1.16e+05</td> <td> 3.57e+05</td>\n",
       "</tr>\n",
       "<tr>\n",
       "  <th>C(zip_code)[T.95610]</th>      <td> 2.698e+04</td> <td>  2.5e+04</td> <td>    1.081</td> <td> 0.280</td> <td>-2.21e+04</td> <td>  7.6e+04</td>\n",
       "</tr>\n",
       "<tr>\n",
       "  <th>C(zip_code)[T.95621]</th>      <td>-1.017e+05</td> <td> 2.61e+04</td> <td>   -3.894</td> <td> 0.000</td> <td>-1.53e+05</td> <td>-5.04e+04</td>\n",
       "</tr>\n",
       "<tr>\n",
       "  <th>C(zip_code)[T.95624]</th>      <td>  3.87e+04</td> <td> 2.08e+04</td> <td>    1.858</td> <td> 0.064</td> <td>-2217.540</td> <td> 7.96e+04</td>\n",
       "</tr>\n",
       "<tr>\n",
       "  <th>C(zip_code)[T.95628]</th>      <td>-6.178e+04</td> <td> 3.98e+04</td> <td>   -1.551</td> <td> 0.121</td> <td> -1.4e+05</td> <td> 1.65e+04</td>\n",
       "</tr>\n",
       "<tr>\n",
       "  <th>C(zip_code)[T.95670]</th>      <td>-1.666e+04</td> <td> 3.62e+04</td> <td>   -0.460</td> <td> 0.646</td> <td>-8.78e+04</td> <td> 5.45e+04</td>\n",
       "</tr>\n",
       "<tr>\n",
       "  <th>C(zip_code)[T.95683]</th>      <td> 1.117e+05</td> <td> 4.16e+04</td> <td>    2.685</td> <td> 0.007</td> <td>    3e+04</td> <td> 1.93e+05</td>\n",
       "</tr>\n",
       "<tr>\n",
       "  <th>C(zip_code)[T.95742]</th>      <td> -1.73e+04</td> <td> 3.87e+04</td> <td>   -0.447</td> <td> 0.655</td> <td>-9.33e+04</td> <td> 5.87e+04</td>\n",
       "</tr>\n",
       "<tr>\n",
       "  <th>C(zip_code)[T.95757]</th>      <td>-3.143e+04</td> <td> 2.04e+04</td> <td>   -1.539</td> <td> 0.124</td> <td>-7.15e+04</td> <td> 8693.074</td>\n",
       "</tr>\n",
       "<tr>\n",
       "  <th>C(zip_code)[T.95758]</th>      <td>-3.683e+04</td> <td> 2.03e+04</td> <td>   -1.815</td> <td> 0.070</td> <td>-7.67e+04</td> <td> 3027.847</td>\n",
       "</tr>\n",
       "<tr>\n",
       "  <th>C(zip_code)[T.95811]</th>      <td> 2.283e+05</td> <td> 3.38e+04</td> <td>    6.748</td> <td> 0.000</td> <td> 1.62e+05</td> <td> 2.95e+05</td>\n",
       "</tr>\n",
       "<tr>\n",
       "  <th>C(zip_code)[T.95814]</th>      <td> 1.039e+05</td> <td>  3.9e+04</td> <td>    2.661</td> <td> 0.008</td> <td> 2.72e+04</td> <td> 1.81e+05</td>\n",
       "</tr>\n",
       "<tr>\n",
       "  <th>C(zip_code)[T.95815]</th>      <td>-1.155e+05</td> <td> 3.68e+04</td> <td>   -3.135</td> <td> 0.002</td> <td>-1.88e+05</td> <td>-4.31e+04</td>\n",
       "</tr>\n",
       "<tr>\n",
       "  <th>C(zip_code)[T.95816]</th>      <td> 2.621e+05</td> <td> 3.39e+04</td> <td>    7.724</td> <td> 0.000</td> <td> 1.95e+05</td> <td> 3.29e+05</td>\n",
       "</tr>\n",
       "<tr>\n",
       "  <th>C(zip_code)[T.95817]</th>      <td>-1.004e+04</td> <td> 4.37e+04</td> <td>   -0.230</td> <td> 0.818</td> <td>-9.58e+04</td> <td> 7.58e+04</td>\n",
       "</tr>\n",
       "<tr>\n",
       "  <th>C(zip_code)[T.95818]</th>      <td> 2.018e+05</td> <td> 2.88e+04</td> <td>    7.012</td> <td> 0.000</td> <td> 1.45e+05</td> <td> 2.58e+05</td>\n",
       "</tr>\n",
       "<tr>\n",
       "  <th>C(zip_code)[T.95819]</th>      <td> 2.485e+05</td> <td> 4.09e+04</td> <td>    6.078</td> <td> 0.000</td> <td> 1.68e+05</td> <td> 3.29e+05</td>\n",
       "</tr>\n",
       "<tr>\n",
       "  <th>C(zip_code)[T.95820]</th>      <td> -2.29e+04</td> <td> 3.53e+04</td> <td>   -0.648</td> <td> 0.517</td> <td>-9.23e+04</td> <td> 4.65e+04</td>\n",
       "</tr>\n",
       "<tr>\n",
       "  <th>C(zip_code)[T.95821]</th>      <td> -8.51e+04</td> <td> 2.42e+04</td> <td>   -3.521</td> <td> 0.000</td> <td>-1.33e+05</td> <td>-3.76e+04</td>\n",
       "</tr>\n",
       "<tr>\n",
       "  <th>C(zip_code)[T.95822]</th>      <td>-1.836e+04</td> <td> 3.33e+04</td> <td>   -0.551</td> <td> 0.582</td> <td>-8.38e+04</td> <td>  4.7e+04</td>\n",
       "</tr>\n",
       "<tr>\n",
       "  <th>C(zip_code)[T.95823]</th>      <td>-7.635e+04</td> <td> 3.38e+04</td> <td>   -2.257</td> <td> 0.024</td> <td>-1.43e+05</td> <td>-9921.840</td>\n",
       "</tr>\n",
       "<tr>\n",
       "  <th>C(zip_code)[T.95824]</th>      <td>-7.966e+04</td> <td> 3.27e+04</td> <td>   -2.433</td> <td> 0.015</td> <td>-1.44e+05</td> <td>-1.54e+04</td>\n",
       "</tr>\n",
       "<tr>\n",
       "  <th>C(zip_code)[T.95825]</th>      <td>-9.114e+04</td> <td> 2.04e+04</td> <td>   -4.464</td> <td> 0.000</td> <td>-1.31e+05</td> <td> -5.1e+04</td>\n",
       "</tr>\n",
       "<tr>\n",
       "  <th>C(zip_code)[T.95826]</th>      <td>-6.545e+04</td> <td> 3.38e+04</td> <td>   -1.936</td> <td> 0.053</td> <td>-1.32e+05</td> <td>  964.659</td>\n",
       "</tr>\n",
       "<tr>\n",
       "  <th>C(zip_code)[T.95827]</th>      <td>-9.734e+04</td> <td> 3.53e+04</td> <td>   -2.758</td> <td> 0.006</td> <td>-1.67e+05</td> <td> -2.8e+04</td>\n",
       "</tr>\n",
       "<tr>\n",
       "  <th>C(zip_code)[T.95828]</th>      <td>-1.136e+05</td> <td> 2.61e+04</td> <td>   -4.354</td> <td> 0.000</td> <td>-1.65e+05</td> <td>-6.24e+04</td>\n",
       "</tr>\n",
       "<tr>\n",
       "  <th>C(zip_code)[T.95829]</th>      <td> 6093.6880</td> <td> 3.37e+04</td> <td>    0.181</td> <td> 0.857</td> <td>-6.02e+04</td> <td> 7.23e+04</td>\n",
       "</tr>\n",
       "<tr>\n",
       "  <th>C(zip_code)[T.95830]</th>      <td> 2.196e+05</td> <td> 1.14e+05</td> <td>    1.930</td> <td> 0.054</td> <td>-3908.495</td> <td> 4.43e+05</td>\n",
       "</tr>\n",
       "<tr>\n",
       "  <th>C(zip_code)[T.95831]</th>      <td> 6.163e+04</td> <td> 3.31e+04</td> <td>    1.862</td> <td> 0.063</td> <td>-3364.289</td> <td> 1.27e+05</td>\n",
       "</tr>\n",
       "<tr>\n",
       "  <th>C(zip_code)[T.95832]</th>      <td> -1.18e+05</td> <td> 8.06e+04</td> <td>   -1.464</td> <td> 0.144</td> <td>-2.76e+05</td> <td> 4.03e+04</td>\n",
       "</tr>\n",
       "<tr>\n",
       "  <th>C(zip_code)[T.95833]</th>      <td>-9.715e+04</td> <td> 3.87e+04</td> <td>   -2.512</td> <td> 0.012</td> <td>-1.73e+05</td> <td>-2.12e+04</td>\n",
       "</tr>\n",
       "<tr>\n",
       "  <th>C(zip_code)[T.95834]</th>      <td>-1.335e+04</td> <td> 3.67e+04</td> <td>   -0.364</td> <td> 0.716</td> <td>-8.55e+04</td> <td> 5.88e+04</td>\n",
       "</tr>\n",
       "<tr>\n",
       "  <th>C(zip_code)[T.95835]</th>      <td>-8.374e+04</td> <td> 2.91e+04</td> <td>   -2.877</td> <td> 0.004</td> <td>-1.41e+05</td> <td>-2.66e+04</td>\n",
       "</tr>\n",
       "<tr>\n",
       "  <th>C(zip_code)[T.95838]</th>      <td>-1.162e+05</td> <td> 3.06e+04</td> <td>   -3.802</td> <td> 0.000</td> <td>-1.76e+05</td> <td>-5.62e+04</td>\n",
       "</tr>\n",
       "<tr>\n",
       "  <th>C(zip_code)[T.95841]</th>      <td>-1.293e+05</td> <td> 5.72e+04</td> <td>   -2.263</td> <td> 0.024</td> <td>-2.42e+05</td> <td>-1.71e+04</td>\n",
       "</tr>\n",
       "<tr>\n",
       "  <th>C(zip_code)[T.95842]</th>      <td>-1.529e+05</td> <td>  4.1e+04</td> <td>   -3.731</td> <td> 0.000</td> <td>-2.33e+05</td> <td>-7.24e+04</td>\n",
       "</tr>\n",
       "<tr>\n",
       "  <th>C(zip_code)[T.95864]</th>      <td> 1.527e+05</td> <td> 2.78e+04</td> <td>    5.485</td> <td> 0.000</td> <td>  9.8e+04</td> <td> 2.07e+05</td>\n",
       "</tr>\n",
       "<tr>\n",
       "  <th>C(city)[T.Citrus Heights]</th> <td>-7.476e+04</td> <td> 4.06e+04</td> <td>   -1.840</td> <td> 0.066</td> <td>-1.55e+05</td> <td> 5045.231</td>\n",
       "</tr>\n",
       "<tr>\n",
       "  <th>C(city)[T.Elk Grove]</th>      <td>-2.956e+04</td> <td> 4.47e+04</td> <td>   -0.662</td> <td> 0.508</td> <td>-1.17e+05</td> <td> 5.82e+04</td>\n",
       "</tr>\n",
       "<tr>\n",
       "  <th>C(city)[T.Fair Oaks]</th>      <td>-6.178e+04</td> <td> 3.98e+04</td> <td>   -1.551</td> <td> 0.121</td> <td> -1.4e+05</td> <td> 1.65e+04</td>\n",
       "</tr>\n",
       "<tr>\n",
       "  <th>C(city)[T.Gold River]</th>     <td> 5.681e+04</td> <td>  5.5e+04</td> <td>    1.033</td> <td> 0.302</td> <td>-5.12e+04</td> <td> 1.65e+05</td>\n",
       "</tr>\n",
       "<tr>\n",
       "  <th>C(city)[T.Rancho Cordova]</th> <td>-9.077e+04</td> <td> 3.62e+04</td> <td>   -2.506</td> <td> 0.012</td> <td>-1.62e+05</td> <td>-1.96e+04</td>\n",
       "</tr>\n",
       "<tr>\n",
       "  <th>C(city)[T.Sacramento]</th>     <td>-1396.3511</td> <td> 5.74e+04</td> <td>   -0.024</td> <td> 0.981</td> <td>-1.14e+05</td> <td> 1.11e+05</td>\n",
       "</tr>\n",
       "<tr>\n",
       "  <th>C(city)[T.Sloughhouse]</th>    <td> 1.117e+05</td> <td> 4.16e+04</td> <td>    2.685</td> <td> 0.007</td> <td>    3e+04</td> <td> 1.93e+05</td>\n",
       "</tr>\n",
       "<tr>\n",
       "  <th>baths</th>                     <td>-8312.6634</td> <td> 1.02e+04</td> <td>   -0.816</td> <td> 0.415</td> <td>-2.83e+04</td> <td> 1.17e+04</td>\n",
       "</tr>\n",
       "<tr>\n",
       "  <th>beds</th>                      <td> 5527.7018</td> <td> 7491.875</td> <td>    0.738</td> <td> 0.461</td> <td>-9186.915</td> <td> 2.02e+04</td>\n",
       "</tr>\n",
       "<tr>\n",
       "  <th>sq_ft</th>                     <td>  168.8598</td> <td>   13.223</td> <td>   12.770</td> <td> 0.000</td> <td>  142.889</td> <td>  194.830</td>\n",
       "</tr>\n",
       "</table>\n",
       "<table class=\"simpletable\">\n",
       "<tr>\n",
       "  <th>Omnibus:</th>       <td>242.205</td> <th>  Durbin-Watson:     </th> <td>   1.826</td>\n",
       "</tr>\n",
       "<tr>\n",
       "  <th>Prob(Omnibus):</th> <td> 0.000</td>  <th>  Jarque-Bera (JB):  </th> <td>1533.207</td>\n",
       "</tr>\n",
       "<tr>\n",
       "  <th>Skew:</th>          <td> 1.606</td>  <th>  Prob(JB):          </th> <td>    0.00</td>\n",
       "</tr>\n",
       "<tr>\n",
       "  <th>Kurtosis:</th>      <td>10.009</td>  <th>  Cond. No.          </th> <td>1.08e+16</td>\n",
       "</tr>\n",
       "</table><br/><br/>Notes:<br/>[1] Standard Errors assume that the covariance matrix of the errors is correctly specified.<br/>[2] The smallest eigenvalue is 2.05e-23. This might indicate that there are<br/>strong multicollinearity problems or that the design matrix is singular."
      ],
      "text/plain": [
       "<class 'statsmodels.iolib.summary.Summary'>\n",
       "\"\"\"\n",
       "                            OLS Regression Results                            \n",
       "==============================================================================\n",
       "Dep. Variable:                  price   R-squared:                       0.700\n",
       "Model:                            OLS   Adj. R-squared:                  0.679\n",
       "Method:                 Least Squares   F-statistic:                     33.74\n",
       "Date:                Wed, 24 Feb 2021   Prob (F-statistic):          7.27e-125\n",
       "Time:                        11:55:31   Log-Likelihood:                -8082.4\n",
       "No. Observations:                 619   AIC:                         1.625e+04\n",
       "Df Residuals:                     578   BIC:                         1.643e+04\n",
       "Df Model:                          40                                         \n",
       "Covariance Type:            nonrobust                                         \n",
       "=============================================================================================\n",
       "                                coef    std err          t      P>|t|      [0.025      0.975]\n",
       "---------------------------------------------------------------------------------------------\n",
       "Intercept                  2.363e+05   6.14e+04      3.852      0.000    1.16e+05    3.57e+05\n",
       "C(zip_code)[T.95610]       2.698e+04    2.5e+04      1.081      0.280   -2.21e+04     7.6e+04\n",
       "C(zip_code)[T.95621]      -1.017e+05   2.61e+04     -3.894      0.000   -1.53e+05   -5.04e+04\n",
       "C(zip_code)[T.95624]        3.87e+04   2.08e+04      1.858      0.064   -2217.540    7.96e+04\n",
       "C(zip_code)[T.95628]      -6.178e+04   3.98e+04     -1.551      0.121    -1.4e+05    1.65e+04\n",
       "C(zip_code)[T.95670]      -1.666e+04   3.62e+04     -0.460      0.646   -8.78e+04    5.45e+04\n",
       "C(zip_code)[T.95683]       1.117e+05   4.16e+04      2.685      0.007       3e+04    1.93e+05\n",
       "C(zip_code)[T.95742]       -1.73e+04   3.87e+04     -0.447      0.655   -9.33e+04    5.87e+04\n",
       "C(zip_code)[T.95757]      -3.143e+04   2.04e+04     -1.539      0.124   -7.15e+04    8693.074\n",
       "C(zip_code)[T.95758]      -3.683e+04   2.03e+04     -1.815      0.070   -7.67e+04    3027.847\n",
       "C(zip_code)[T.95811]       2.283e+05   3.38e+04      6.748      0.000    1.62e+05    2.95e+05\n",
       "C(zip_code)[T.95814]       1.039e+05    3.9e+04      2.661      0.008    2.72e+04    1.81e+05\n",
       "C(zip_code)[T.95815]      -1.155e+05   3.68e+04     -3.135      0.002   -1.88e+05   -4.31e+04\n",
       "C(zip_code)[T.95816]       2.621e+05   3.39e+04      7.724      0.000    1.95e+05    3.29e+05\n",
       "C(zip_code)[T.95817]      -1.004e+04   4.37e+04     -0.230      0.818   -9.58e+04    7.58e+04\n",
       "C(zip_code)[T.95818]       2.018e+05   2.88e+04      7.012      0.000    1.45e+05    2.58e+05\n",
       "C(zip_code)[T.95819]       2.485e+05   4.09e+04      6.078      0.000    1.68e+05    3.29e+05\n",
       "C(zip_code)[T.95820]       -2.29e+04   3.53e+04     -0.648      0.517   -9.23e+04    4.65e+04\n",
       "C(zip_code)[T.95821]       -8.51e+04   2.42e+04     -3.521      0.000   -1.33e+05   -3.76e+04\n",
       "C(zip_code)[T.95822]      -1.836e+04   3.33e+04     -0.551      0.582   -8.38e+04     4.7e+04\n",
       "C(zip_code)[T.95823]      -7.635e+04   3.38e+04     -2.257      0.024   -1.43e+05   -9921.840\n",
       "C(zip_code)[T.95824]      -7.966e+04   3.27e+04     -2.433      0.015   -1.44e+05   -1.54e+04\n",
       "C(zip_code)[T.95825]      -9.114e+04   2.04e+04     -4.464      0.000   -1.31e+05    -5.1e+04\n",
       "C(zip_code)[T.95826]      -6.545e+04   3.38e+04     -1.936      0.053   -1.32e+05     964.659\n",
       "C(zip_code)[T.95827]      -9.734e+04   3.53e+04     -2.758      0.006   -1.67e+05    -2.8e+04\n",
       "C(zip_code)[T.95828]      -1.136e+05   2.61e+04     -4.354      0.000   -1.65e+05   -6.24e+04\n",
       "C(zip_code)[T.95829]       6093.6880   3.37e+04      0.181      0.857   -6.02e+04    7.23e+04\n",
       "C(zip_code)[T.95830]       2.196e+05   1.14e+05      1.930      0.054   -3908.495    4.43e+05\n",
       "C(zip_code)[T.95831]       6.163e+04   3.31e+04      1.862      0.063   -3364.289    1.27e+05\n",
       "C(zip_code)[T.95832]       -1.18e+05   8.06e+04     -1.464      0.144   -2.76e+05    4.03e+04\n",
       "C(zip_code)[T.95833]      -9.715e+04   3.87e+04     -2.512      0.012   -1.73e+05   -2.12e+04\n",
       "C(zip_code)[T.95834]      -1.335e+04   3.67e+04     -0.364      0.716   -8.55e+04    5.88e+04\n",
       "C(zip_code)[T.95835]      -8.374e+04   2.91e+04     -2.877      0.004   -1.41e+05   -2.66e+04\n",
       "C(zip_code)[T.95838]      -1.162e+05   3.06e+04     -3.802      0.000   -1.76e+05   -5.62e+04\n",
       "C(zip_code)[T.95841]      -1.293e+05   5.72e+04     -2.263      0.024   -2.42e+05   -1.71e+04\n",
       "C(zip_code)[T.95842]      -1.529e+05    4.1e+04     -3.731      0.000   -2.33e+05   -7.24e+04\n",
       "C(zip_code)[T.95864]       1.527e+05   2.78e+04      5.485      0.000     9.8e+04    2.07e+05\n",
       "C(city)[T.Citrus Heights] -7.476e+04   4.06e+04     -1.840      0.066   -1.55e+05    5045.231\n",
       "C(city)[T.Elk Grove]      -2.956e+04   4.47e+04     -0.662      0.508   -1.17e+05    5.82e+04\n",
       "C(city)[T.Fair Oaks]      -6.178e+04   3.98e+04     -1.551      0.121    -1.4e+05    1.65e+04\n",
       "C(city)[T.Gold River]      5.681e+04    5.5e+04      1.033      0.302   -5.12e+04    1.65e+05\n",
       "C(city)[T.Rancho Cordova] -9.077e+04   3.62e+04     -2.506      0.012   -1.62e+05   -1.96e+04\n",
       "C(city)[T.Sacramento]     -1396.3511   5.74e+04     -0.024      0.981   -1.14e+05    1.11e+05\n",
       "C(city)[T.Sloughhouse]     1.117e+05   4.16e+04      2.685      0.007       3e+04    1.93e+05\n",
       "baths                     -8312.6634   1.02e+04     -0.816      0.415   -2.83e+04    1.17e+04\n",
       "beds                       5527.7018   7491.875      0.738      0.461   -9186.915    2.02e+04\n",
       "sq_ft                       168.8598     13.223     12.770      0.000     142.889     194.830\n",
       "==============================================================================\n",
       "Omnibus:                      242.205   Durbin-Watson:                   1.826\n",
       "Prob(Omnibus):                  0.000   Jarque-Bera (JB):             1533.207\n",
       "Skew:                           1.606   Prob(JB):                         0.00\n",
       "Kurtosis:                      10.009   Cond. No.                     1.08e+16\n",
       "==============================================================================\n",
       "\n",
       "Notes:\n",
       "[1] Standard Errors assume that the covariance matrix of the errors is correctly specified.\n",
       "[2] The smallest eigenvalue is 2.05e-23. This might indicate that there are\n",
       "strong multicollinearity problems or that the design matrix is singular.\n",
       "\"\"\""
      ]
     },
     "execution_count": 17,
     "metadata": {},
     "output_type": "execute_result"
    }
   ],
   "source": [
    "model_rev.summary()"
   ]
  },
  {
   "cell_type": "markdown",
   "metadata": {},
   "source": [
    "## Sklearn - Linear Regression"
   ]
  },
  {
   "cell_type": "code",
   "execution_count": 18,
   "metadata": {},
   "outputs": [],
   "source": [
    "from sklearn.linear_model import LinearRegression\n",
    "lr = LinearRegression()"
   ]
  },
  {
   "cell_type": "code",
   "execution_count": 19,
   "metadata": {},
   "outputs": [],
   "source": [
    "df_dum = pd.get_dummies(data=df,columns=['zip_code','city'],drop_first=True)"
   ]
  },
  {
   "cell_type": "markdown",
   "metadata": {},
   "source": [
    "## Train Test Split"
   ]
  },
  {
   "cell_type": "code",
   "execution_count": 20,
   "metadata": {},
   "outputs": [],
   "source": [
    "from sklearn.model_selection import train_test_split"
   ]
  },
  {
   "cell_type": "code",
   "execution_count": 21,
   "metadata": {},
   "outputs": [],
   "source": [
    "X = df_dum.drop('price',axis=1) \n",
    "y = df_dum['price']\n",
    "\n",
    "X_train, X_test, y_train, y_test = train_test_split(X, y, test_size=0.2, random_state=42)"
   ]
  },
  {
   "cell_type": "code",
   "execution_count": 22,
   "metadata": {},
   "outputs": [],
   "source": [
    "lr_model = lr.fit(X_train,y_train)"
   ]
  },
  {
   "cell_type": "markdown",
   "metadata": {},
   "source": [
    "## Metrics"
   ]
  },
  {
   "cell_type": "code",
   "execution_count": 23,
   "metadata": {},
   "outputs": [],
   "source": [
    "predictions = lr_model.predict(X_test)"
   ]
  },
  {
   "cell_type": "code",
   "execution_count": 24,
   "metadata": {},
   "outputs": [
    {
     "data": {
      "text/plain": [
       "Text(0, 0.5, 'Predicted Y')"
      ]
     },
     "execution_count": 24,
     "metadata": {},
     "output_type": "execute_result"
    },
    {
     "data": {
      "image/png": "[encoded data removed]",
      "text/plain": [
       "<Figure size 432x288 with 1 Axes>"
      ]
     },
     "metadata": {
      "needs_background": "light"
     },
     "output_type": "display_data"
    }
   ],
   "source": [
    "plt.scatter(y_test,predictions)\n",
    "plt.xlabel('Y Test')\n",
    "plt.ylabel('Predicted Y')"
   ]
  },
  {
   "cell_type": "code",
   "execution_count": 25,
   "metadata": {},
   "outputs": [
    {
     "data": {
      "text/plain": [
       "<seaborn.axisgrid.FacetGrid at 0x18e8f1df670>"
      ]
     },
     "execution_count": 25,
     "metadata": {},
     "output_type": "execute_result"
    },
    {
     "data": {
      "image/png": "[encoded data removed]",
      "text/plain": [
       "<Figure size 360x360 with 1 Axes>"
      ]
     },
     "metadata": {
      "needs_background": "light"
     },
     "output_type": "display_data"
    }
   ],
   "source": [
    "residuals = y_test - predictions\n",
    "sns.displot(data=residuals, kind='kde')"
   ]
  },
  {
   "cell_type": "code",
   "execution_count": 26,
   "metadata": {},
   "outputs": [],
   "source": [
    "from sklearn import metrics"
   ]
  },
  {
   "cell_type": "code",
   "execution_count": 27,
   "metadata": {},
   "outputs": [
    {
     "name": "stdout",
     "output_type": "stream",
     "text": [
      "MAE: 79661.39390981685\n",
      "MAPE: 0.1723366239723726\n",
      "MSE: 13229561397.354887\n",
      "RMSE: 115019.83045264363\n"
     ]
    }
   ],
   "source": [
    "print('MAE:', metrics.mean_absolute_error(y_test,predictions))\n",
    "print('MAPE:', metrics.mean_absolute_percentage_error(y_test,predictions))\n",
    "print('MSE:', metrics.mean_squared_error(y_test,predictions))\n",
    "print('RMSE:', np.sqrt(metrics.mean_squared_error(y_test,predictions)))"
   ]
  },
  {
   "cell_type": "code",
   "execution_count": 28,
   "metadata": {},
   "outputs": [],
   "source": [
    "X.columns\n",
    "column_names = ['baths', 'beds', 'sq_ft', 'zip_code_95610', 'zip_code_95621',\n",
    "       'zip_code_95624', 'zip_code_95628', 'zip_code_95670', 'zip_code_95683',\n",
    "       'zip_code_95742', 'zip_code_95757', 'zip_code_95758', 'zip_code_95811',\n",
    "       'zip_code_95814', 'zip_code_95815', 'zip_code_95816', 'zip_code_95817',\n",
    "       'zip_code_95818', 'zip_code_95819', 'zip_code_95820', 'zip_code_95821',\n",
    "       'zip_code_95822', 'zip_code_95823', 'zip_code_95824', 'zip_code_95825',\n",
    "       'zip_code_95826', 'zip_code_95827', 'zip_code_95828', 'zip_code_95829',\n",
    "       'zip_code_95830', 'zip_code_95831', 'zip_code_95832', 'zip_code_95833',\n",
    "       'zip_code_95834', 'zip_code_95835', 'zip_code_95838', 'zip_code_95841',\n",
    "       'zip_code_95842', 'zip_code_95864', 'city_Citrus Heights',\n",
    "       'city_Elk Grove', 'city_Fair Oaks', 'city_Gold River',\n",
    "       'city_Rancho Cordova', 'city_Sacramento', 'city_Sloughhouse']"
   ]
  },
  {
   "cell_type": "code",
   "execution_count": 29,
   "metadata": {},
   "outputs": [],
   "source": [
    "coefficients = pd.DataFrame(lr_model.coef_,column_names)\n",
    "coefficients.columns = ['Coefficients']"
   ]
  },
  {
   "cell_type": "code",
   "execution_count": 30,
   "metadata": {},
   "outputs": [
    {
     "data": {
      "text/html": [
       "<div>\n",
       "<style scoped>\n",
       "    .dataframe tbody tr th:only-of-type {\n",
       "        vertical-align: middle;\n",
       "    }\n",
       "\n",
       "    .dataframe tbody tr th {\n",
       "        vertical-align: top;\n",
       "    }\n",
       "\n",
       "    .dataframe thead th {\n",
       "        text-align: right;\n",
       "    }\n",
       "</style>\n",
       "<table border=\"1\" class=\"dataframe\">\n",
       "  <thead>\n",
       "    <tr style=\"text-align: right;\">\n",
       "      <th></th>\n",
       "      <th>Coefficients</th>\n",
       "    </tr>\n",
       "  </thead>\n",
       "  <tbody>\n",
       "    <tr>\n",
       "      <th>zip_code_95816</th>\n",
       "      <td>276247.297715</td>\n",
       "    </tr>\n",
       "    <tr>\n",
       "      <th>zip_code_95819</th>\n",
       "      <td>260798.914927</td>\n",
       "    </tr>\n",
       "    <tr>\n",
       "      <th>zip_code_95830</th>\n",
       "      <td>231705.111798</td>\n",
       "    </tr>\n",
       "    <tr>\n",
       "      <th>zip_code_95811</th>\n",
       "      <td>219429.892563</td>\n",
       "    </tr>\n",
       "    <tr>\n",
       "      <th>zip_code_95818</th>\n",
       "      <td>206062.112279</td>\n",
       "    </tr>\n",
       "    <tr>\n",
       "      <th>zip_code_95864</th>\n",
       "      <td>146479.135052</td>\n",
       "    </tr>\n",
       "    <tr>\n",
       "      <th>zip_code_95814</th>\n",
       "      <td>114104.718030</td>\n",
       "    </tr>\n",
       "    <tr>\n",
       "      <th>city_Sloughhouse</th>\n",
       "      <td>104903.710663</td>\n",
       "    </tr>\n",
       "    <tr>\n",
       "      <th>zip_code_95683</th>\n",
       "      <td>104903.710663</td>\n",
       "    </tr>\n",
       "    <tr>\n",
       "      <th>zip_code_95831</th>\n",
       "      <td>77697.601197</td>\n",
       "    </tr>\n",
       "    <tr>\n",
       "      <th>city_Gold River</th>\n",
       "      <td>67847.048041</td>\n",
       "    </tr>\n",
       "    <tr>\n",
       "      <th>zip_code_95829</th>\n",
       "      <td>32066.749560</td>\n",
       "    </tr>\n",
       "    <tr>\n",
       "      <th>zip_code_95610</th>\n",
       "      <td>30704.943737</td>\n",
       "    </tr>\n",
       "    <tr>\n",
       "      <th>zip_code_95624</th>\n",
       "      <td>30477.295698</td>\n",
       "    </tr>\n",
       "    <tr>\n",
       "      <th>beds</th>\n",
       "      <td>9738.389247</td>\n",
       "    </tr>\n",
       "    <tr>\n",
       "      <th>city_Sacramento</th>\n",
       "      <td>5736.336375</td>\n",
       "    </tr>\n",
       "    <tr>\n",
       "      <th>sq_ft</th>\n",
       "      <td>154.300292</td>\n",
       "    </tr>\n",
       "    <tr>\n",
       "      <th>baths</th>\n",
       "      <td>-626.381448</td>\n",
       "    </tr>\n",
       "    <tr>\n",
       "      <th>zip_code_95834</th>\n",
       "      <td>-1458.818259</td>\n",
       "    </tr>\n",
       "    <tr>\n",
       "      <th>zip_code_95742</th>\n",
       "      <td>-3025.404135</td>\n",
       "    </tr>\n",
       "    <tr>\n",
       "      <th>zip_code_95670</th>\n",
       "      <td>-15552.272172</td>\n",
       "    </tr>\n",
       "    <tr>\n",
       "      <th>zip_code_95757</th>\n",
       "      <td>-20780.554788</td>\n",
       "    </tr>\n",
       "    <tr>\n",
       "      <th>city_Elk Grove</th>\n",
       "      <td>-20877.139030</td>\n",
       "    </tr>\n",
       "    <tr>\n",
       "      <th>zip_code_95822</th>\n",
       "      <td>-25665.668899</td>\n",
       "    </tr>\n",
       "    <tr>\n",
       "      <th>zip_code_95758</th>\n",
       "      <td>-30573.879940</td>\n",
       "    </tr>\n",
       "    <tr>\n",
       "      <th>zip_code_95820</th>\n",
       "      <td>-32515.463649</td>\n",
       "    </tr>\n",
       "    <tr>\n",
       "      <th>zip_code_95823</th>\n",
       "      <td>-46420.843163</td>\n",
       "    </tr>\n",
       "    <tr>\n",
       "      <th>zip_code_95817</th>\n",
       "      <td>-55579.624646</td>\n",
       "    </tr>\n",
       "    <tr>\n",
       "      <th>city_Fair Oaks</th>\n",
       "      <td>-59895.921119</td>\n",
       "    </tr>\n",
       "    <tr>\n",
       "      <th>zip_code_95628</th>\n",
       "      <td>-59895.921119</td>\n",
       "    </tr>\n",
       "    <tr>\n",
       "      <th>city_Citrus Heights</th>\n",
       "      <td>-73110.096174</td>\n",
       "    </tr>\n",
       "    <tr>\n",
       "      <th>zip_code_95826</th>\n",
       "      <td>-74898.898682</td>\n",
       "    </tr>\n",
       "    <tr>\n",
       "      <th>zip_code_95835</th>\n",
       "      <td>-76409.284636</td>\n",
       "    </tr>\n",
       "    <tr>\n",
       "      <th>zip_code_95821</th>\n",
       "      <td>-84506.793277</td>\n",
       "    </tr>\n",
       "    <tr>\n",
       "      <th>city_Rancho Cordova</th>\n",
       "      <td>-86424.724348</td>\n",
       "    </tr>\n",
       "    <tr>\n",
       "      <th>zip_code_95825</th>\n",
       "      <td>-87018.976545</td>\n",
       "    </tr>\n",
       "    <tr>\n",
       "      <th>zip_code_95827</th>\n",
       "      <td>-92687.306449</td>\n",
       "    </tr>\n",
       "    <tr>\n",
       "      <th>zip_code_95828</th>\n",
       "      <td>-98628.731272</td>\n",
       "    </tr>\n",
       "    <tr>\n",
       "      <th>zip_code_95824</th>\n",
       "      <td>-98777.796502</td>\n",
       "    </tr>\n",
       "    <tr>\n",
       "      <th>zip_code_95833</th>\n",
       "      <td>-99018.835571</td>\n",
       "    </tr>\n",
       "    <tr>\n",
       "      <th>zip_code_95621</th>\n",
       "      <td>-103815.039911</td>\n",
       "    </tr>\n",
       "    <tr>\n",
       "      <th>zip_code_95838</th>\n",
       "      <td>-110907.416221</td>\n",
       "    </tr>\n",
       "    <tr>\n",
       "      <th>zip_code_95841</th>\n",
       "      <td>-127769.729459</td>\n",
       "    </tr>\n",
       "    <tr>\n",
       "      <th>zip_code_95815</th>\n",
       "      <td>-131236.258202</td>\n",
       "    </tr>\n",
       "    <tr>\n",
       "      <th>zip_code_95832</th>\n",
       "      <td>-154140.423535</td>\n",
       "    </tr>\n",
       "    <tr>\n",
       "      <th>zip_code_95842</th>\n",
       "      <td>-161214.327780</td>\n",
       "    </tr>\n",
       "  </tbody>\n",
       "</table>\n",
       "</div>"
      ],
      "text/plain": [
       "                      Coefficients\n",
       "zip_code_95816       276247.297715\n",
       "zip_code_95819       260798.914927\n",
       "zip_code_95830       231705.111798\n",
       "zip_code_95811       219429.892563\n",
       "zip_code_95818       206062.112279\n",
       "zip_code_95864       146479.135052\n",
       "zip_code_95814       114104.718030\n",
       "city_Sloughhouse     104903.710663\n",
       "zip_code_95683       104903.710663\n",
       "zip_code_95831        77697.601197\n",
       "city_Gold River       67847.048041\n",
       "zip_code_95829        32066.749560\n",
       "zip_code_95610        30704.943737\n",
       "zip_code_95624        30477.295698\n",
       "beds                   9738.389247\n",
       "city_Sacramento        5736.336375\n",
       "sq_ft                   154.300292\n",
       "baths                  -626.381448\n",
       "zip_code_95834        -1458.818259\n",
       "zip_code_95742        -3025.404135\n",
       "zip_code_95670       -15552.272172\n",
       "zip_code_95757       -20780.554788\n",
       "city_Elk Grove       -20877.139030\n",
       "zip_code_95822       -25665.668899\n",
       "zip_code_95758       -30573.879940\n",
       "zip_code_95820       -32515.463649\n",
       "zip_code_95823       -46420.843163\n",
       "zip_code_95817       -55579.624646\n",
       "city_Fair Oaks       -59895.921119\n",
       "zip_code_95628       -59895.921119\n",
       "city_Citrus Heights  -73110.096174\n",
       "zip_code_95826       -74898.898682\n",
       "zip_code_95835       -76409.284636\n",
       "zip_code_95821       -84506.793277\n",
       "city_Rancho Cordova  -86424.724348\n",
       "zip_code_95825       -87018.976545\n",
       "zip_code_95827       -92687.306449\n",
       "zip_code_95828       -98628.731272\n",
       "zip_code_95824       -98777.796502\n",
       "zip_code_95833       -99018.835571\n",
       "zip_code_95621      -103815.039911\n",
       "zip_code_95838      -110907.416221\n",
       "zip_code_95841      -127769.729459\n",
       "zip_code_95815      -131236.258202\n",
       "zip_code_95832      -154140.423535\n",
       "zip_code_95842      -161214.327780"
      ]
     },
     "execution_count": 30,
     "metadata": {},
     "output_type": "execute_result"
    }
   ],
   "source": [
    "coefficients.sort_values(by=['Coefficients'],ascending=False)"
   ]
  },
  {
   "cell_type": "markdown",
   "metadata": {},
   "source": [
    "## Export SKlearn Linear Regression Model to pkl file"
   ]
  },
  {
   "cell_type": "code",
   "execution_count": 31,
   "metadata": {},
   "outputs": [],
   "source": [
    "import joblib"
   ]
  },
  {
   "cell_type": "code",
   "execution_count": 32,
   "metadata": {},
   "outputs": [],
   "source": [
    "#joblib.dump(lr_model,'lr_model.pkl')"
   ]
  }
 ],
 "metadata": {
  "kernelspec": {
   "display_name": "Python 3",
   "language": "python",
   "name": "python3"
  },
  "language_info": {
   "codemirror_mode": {
    "name": "ipython",
    "version": 3
   },
   "file_extension": ".py",
   "mimetype": "text/x-python",
   "name": "python",
   "nbconvert_exporter": "python",
   "pygments_lexer": "ipython3",
   "version": "3.8.5"
  },
  "varInspector": {
   "cols": {
    "lenName": 16,
    "lenType": 16,
    "lenVar": 40
   },
   "kernels_config": {
    "python": {
     "delete_cmd_postfix": "",
     "delete_cmd_prefix": "del ",
     "library": "var_list.py",
     "varRefreshCmd": "print(var_dic_list())"
    },
    "r": {
     "delete_cmd_postfix": ") ",
     "delete_cmd_prefix": "rm(",
     "library": "var_list.r",
     "varRefreshCmd": "cat(var_dic_list()) "
    }
   },
   "types_to_exclude": [
    "module",
    "function",
    "builtin_function_or_method",
    "instance",
    "_Feature"
   ],
   "window_display": false
  }
 },
 "nbformat": 4,
 "nbformat_minor": 4
}
